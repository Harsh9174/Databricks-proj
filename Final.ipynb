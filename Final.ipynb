{
 "cells": [
  {
   "cell_type": "code",
   "execution_count": 0,
   "metadata": {
    "application/vnd.databricks.v1+cell": {
     "cellMetadata": {
      "byteLimit": 2048000,
      "rowLimit": 10000
     },
     "inputWidgets": {},
     "nuid": "0b0f567a-95c4-4316-8883-517e46611e7d",
     "showTitle": false,
     "tableResultSettingsMap": {},
     "title": ""
    }
   },
   "outputs": [
    {
     "output_type": "stream",
     "name": "stdout",
     "output_type": "stream",
     "text": [
      "/mnt/bronze-ankit has been unmounted.\n"
     ]
    },
    {
     "output_type": "execute_result",
     "data": {
      "text/plain": [
       "True"
      ]
     },
     "execution_count": 2,
     "metadata": {},
     "output_type": "execute_result"
    }
   ],
   "source": [
    "# Unmount the existing mount point if it exists\n",
    "try:\n",
    "    dbutils.fs.unmount(\"/mnt/bronze-ankit\")\n",
    "except:\n",
    "    pass\n",
    "\n",
    "# bronze mount\n",
    "configs = {\n",
    "    \"fs.azure.account.auth.type\": \"OAuth\",\n",
    "    \"fs.azure.account.oauth.provider.type\": \"org.apache.hadoop.fs.azurebfs.oauth2.ClientCredsTokenProvider\",\n",
    "    \"fs.azure.account.oauth2.client.id\": dbutils.secrets.get(scope=\"my_scope\", key=\"clientid\"),\n",
    "    \"fs.azure.account.oauth2.client.secret\": dbutils.secrets.get(scope=\"my_scope\", key=\"clientsecret\"),\n",
    "    \"fs.azure.account.oauth2.client.endpoint\": \"https://login.microsoftonline.com/d1e4ebf6-743a-4c8c-93d3-8f0bf46b74b2/oauth2/token\"\n",
    "}\n",
    "\n",
    "# Replace with your storage account name and container name\n",
    "storage_account_name = \"bpclcloud\"\n",
    "container_name = \"bronze-ankit\"\n",
    "\n",
    "mount_point = \"/mnt/\" + container_name\n",
    "\n",
    "dbutils.fs.mount(\n",
    "    source=f\"abfss://{container_name}@{storage_account_name}.dfs.core.windows.net/\",\n",
    "    mount_point=mount_point,\n",
    "    extra_configs=configs\n",
    ")"
   ]
  },
  {
   "cell_type": "code",
   "execution_count": 0,
   "metadata": {
    "application/vnd.databricks.v1+cell": {
     "cellMetadata": {
      "byteLimit": 2048000,
      "rowLimit": 10000
     },
     "inputWidgets": {},
     "nuid": "23c45d62-062a-4fee-8e8e-1f6cdcb0e2d4",
     "showTitle": false,
     "tableResultSettingsMap": {},
     "title": ""
    }
   },
   "outputs": [
    {
     "output_type": "stream",
     "name": "stdout",
     "output_type": "stream",
     "text": [
      "/mnt/silver-ankit has been unmounted.\n"
     ]
    },
    {
     "output_type": "execute_result",
     "data": {
      "text/plain": [
       "True"
      ]
     },
     "execution_count": 4,
     "metadata": {},
     "output_type": "execute_result"
    }
   ],
   "source": [
    "# bronze mount\n",
    "# Unmount the existing mount point if it exists\n",
    "try:\n",
    "    dbutils.fs.unmount(\"/mnt/silver-ankit\")\n",
    "except:\n",
    "    pass\n",
    "\n",
    "configs = {\n",
    "    \"fs.azure.account.auth.type\": \"OAuth\",\n",
    "    \"fs.azure.account.oauth.provider.type\": \"org.apache.hadoop.fs.azurebfs.oauth2.ClientCredsTokenProvider\",\n",
    "    \"fs.azure.account.oauth2.client.id\": dbutils.secrets.get(scope=\"my_scope\", key=\"clientid\"),\n",
    "    \"fs.azure.account.oauth2.client.secret\": dbutils.secrets.get(scope=\"my_scope\", key=\"clientsecret\"),\n",
    "    \"fs.azure.account.oauth2.client.endpoint\": \"https://login.microsoftonline.com/d1e4ebf6-743a-4c8c-93d3-8f0bf46b74b2/oauth2/token\"\n",
    "}\n",
    "\n",
    "# Replace with your storage account name and container name\n",
    "storage_account_name = \"bpclcloud\"\n",
    "container_name = \"silver-ankit\"\n",
    "\n",
    "mount_point = \"/mnt/\" + container_name\n",
    "\n",
    "dbutils.fs.mount(\n",
    "    source=f\"abfss://{container_name}@{storage_account_name}.dfs.core.windows.net/\",\n",
    "    mount_point=mount_point,\n",
    "    extra_configs=configs\n",
    ")"
   ]
  },
  {
   "cell_type": "code",
   "execution_count": 0,
   "metadata": {
    "application/vnd.databricks.v1+cell": {
     "cellMetadata": {
      "byteLimit": 2048000,
      "rowLimit": 10000
     },
     "inputWidgets": {},
     "nuid": "423bb6e7-dc39-4670-99ac-825f123ef16f",
     "showTitle": false,
     "tableResultSettingsMap": {},
     "title": ""
    }
   },
   "outputs": [
    {
     "output_type": "stream",
     "name": "stdout",
     "output_type": "stream",
     "text": [
      "/mnt/bronze-auto has been unmounted.\n"
     ]
    },
    {
     "output_type": "execute_result",
     "data": {
      "text/plain": [
       "True"
      ]
     },
     "execution_count": 5,
     "metadata": {},
     "output_type": "execute_result"
    }
   ],
   "source": [
    "# bronze mount\n",
    "try:\n",
    "    dbutils.fs.unmount(\"/mnt/bronze-auto\")\n",
    "except:\n",
    "    pass\n",
    "\n",
    "\n",
    "configs = {\n",
    "    \"fs.azure.account.auth.type\": \"OAuth\",\n",
    "    \"fs.azure.account.oauth.provider.type\": \"org.apache.hadoop.fs.azurebfs.oauth2.ClientCredsTokenProvider\",\n",
    "    \"fs.azure.account.oauth2.client.id\": dbutils.secrets.get(scope=\"my_scope\", key=\"clientid\"),\n",
    "    \"fs.azure.account.oauth2.client.secret\": dbutils.secrets.get(scope=\"my_scope\", key=\"clientsecret\"),\n",
    "    \"fs.azure.account.oauth2.client.endpoint\": \"https://login.microsoftonline.com/d1e4ebf6-743a-4c8c-93d3-8f0bf46b74b2/oauth2/token\"\n",
    "}\n",
    "\n",
    "# Replace with your storage account name and container name\n",
    "storage_account_name = \"bpclcloud\"\n",
    "container_name = \"bronze-auto\"\n",
    "\n",
    "mount_point = \"/mnt/\" + container_name\n",
    "\n",
    "dbutils.fs.mount(\n",
    "    source=f\"abfss://{container_name}@{storage_account_name}.dfs.core.windows.net/\",\n",
    "    mount_point=mount_point,\n",
    "    extra_configs=configs\n",
    ")"
   ]
  },
  {
   "cell_type": "code",
   "execution_count": 0,
   "metadata": {
    "application/vnd.databricks.v1+cell": {
     "cellMetadata": {
      "byteLimit": 2048000,
      "rowLimit": 10000
     },
     "inputWidgets": {},
     "nuid": "752a65f8-bdd3-4f1f-924f-31d49140566a",
     "showTitle": false,
     "tableResultSettingsMap": {},
     "title": ""
    }
   },
   "outputs": [
    {
     "output_type": "execute_result",
     "data": {
      "text/plain": [
       "<pyspark.sql.streaming.query.StreamingQuery at 0x7fea4a02f470>"
      ]
     },
     "execution_count": 6,
     "metadata": {},
     "output_type": "execute_result"
    }
   ],
   "source": [
    "from pyspark.sql.functions import current_timestamp\n",
    "from delta.tables import DeltaTable\n",
    "\n",
    "# Paths\n",
    "raw_path = \"/mnt/bronze-ankit/Sales_order\"\n",
    "bronze_path = \"/mnt/bronze-auto/sales_order\"  # Target folder\n",
    "\n",
    "# Read the raw Parquet data\n",
    "bronze_df = (spark.readStream\n",
    "             .format(\"cloudFiles\")\n",
    "             .option(\"cloudFiles.format\", \"parquet\")\n",
    "             .option(\"cloudFiles.schemaLocation\", f\"{bronze_path}/_schema\")  # Schema location\n",
    "             .option(\"cloudFiles.inferColumnTypes\", \"true\")\n",
    "             .load(raw_path))\n",
    "\n",
    "# Add the 'IngestedAt' column\n",
    "bronze_df = bronze_df.withColumn(\"IngestedAt\", current_timestamp())\n",
    "\n",
    "# Write to the Bronze path\n",
    "bronze_df.writeStream.format(\"delta\") \\\n",
    "    .option(\"checkpointLocation\", f\"{bronze_path}/_checkpoint\") \\\n",
    "    .outputMode(\"append\") \\\n",
    "    .start(bronze_path)\n"
   ]
  },
  {
   "cell_type": "code",
   "execution_count": 0,
   "metadata": {
    "application/vnd.databricks.v1+cell": {
     "cellMetadata": {
      "byteLimit": 2048000,
      "rowLimit": 10000
     },
     "inputWidgets": {},
     "nuid": "cc8fec07-1bbc-4201-ad82-44b3e3995f12",
     "showTitle": false,
     "tableResultSettingsMap": {},
     "title": ""
    }
   },
   "outputs": [
    {
     "output_type": "display_data",
     "data": {
      "text/html": [
       "<style scoped>\n",
       "  .table-result-container {\n",
       "    max-height: 300px;\n",
       "    overflow: auto;\n",
       "  }\n",
       "  table, th, td {\n",
       "    border: 1px solid black;\n",
       "    border-collapse: collapse;\n",
       "  }\n",
       "  th, td {\n",
       "    padding: 5px;\n",
       "  }\n",
       "  th {\n",
       "    text-align: left;\n",
       "  }\n",
       "</style><div class='table-result-container'><table class='table-result'><thead style='background-color: white'><tr><th>OrderID</th><th>CustomerID</th><th>ProductID</th><th>OrderDate</th><th>Quantity</th><th>UnitPrice</th><th>TotalAmount</th><th>OrderStatus</th><th>LastUpdated</th></tr></thead><tbody><tr><td>1</td><td>101</td><td>201</td><td>2025-01-01T10:30:00Z</td><td>2</td><td>50.00</td><td>100.00</td><td>Pending</td><td>2025-01-01T10:30:00Z</td></tr><tr><td>2</td><td>102</td><td>202</td><td>2025-01-02T14:15:00Z</td><td>1</td><td>75.50</td><td>75.50</td><td>Completed</td><td>2025-01-02T14:15:00Z</td></tr><tr><td>3</td><td>103</td><td>203</td><td>2025-01-03T09:45:00Z</td><td>5</td><td>20.00</td><td>100.00</td><td>Shipped</td><td>2025-01-03T09:45:00Z</td></tr><tr><td>4</td><td>104</td><td>204</td><td>2025-01-04T16:00:00Z</td><td>3</td><td>150.75</td><td>452.25</td><td>Cancelled</td><td>2025-01-04T16:00:00Z</td></tr><tr><td>5</td><td>105</td><td>205</td><td>2025-01-05T11:20:00Z</td><td>10</td><td>10.50</td><td>105.00</td><td>Pending</td><td>2025-01-05T11:20:00Z</td></tr><tr><td>6</td><td>106</td><td>206</td><td>2025-01-06T18:30:00Z</td><td>4</td><td>99.99</td><td>399.96</td><td>Completed</td><td>2025-01-06T18:30:00Z</td></tr><tr><td>7</td><td>107</td><td>207</td><td>2025-01-07T13:10:00Z</td><td>7</td><td>40.00</td><td>280.00</td><td>Shipped</td><td>2025-01-07T13:10:00Z</td></tr><tr><td>8</td><td>108</td><td>208</td><td>2025-01-08T15:45:00Z</td><td>6</td><td>25.25</td><td>151.50</td><td>Pending</td><td>2025-01-08T15:45:00Z</td></tr><tr><td>9</td><td>109</td><td>209</td><td>2025-01-09T10:00:00Z</td><td>12</td><td>8.99</td><td>107.88</td><td>Completed</td><td>2025-01-09T10:00:00Z</td></tr><tr><td>10</td><td>10</td><td>110</td><td>2025-01-10T12:00:00Z</td><td>3</td><td>60.00</td><td>180.00</td><td>Pending</td><td>2025-01-10T12:00:00Z</td></tr><tr><td>11</td><td>110</td><td>210</td><td>2025-01-10T12:00:00Z</td><td>3</td><td>60.00</td><td>180.00</td><td>Pending</td><td>2025-01-10T12:00:00Z</td></tr><tr><td>12</td><td>111</td><td>213</td><td>2025-01-10T12:00:00Z</td><td>3</td><td>60.00</td><td>180.00</td><td>Pending</td><td>2025-01-10T18:57:21.963Z</td></tr><tr><td>13</td><td>112</td><td>215</td><td>2025-01-10T12:00:00Z</td><td>3</td><td>80.00</td><td>180.00</td><td>Pending</td><td>2025-01-10T19:10:16.757Z</td></tr><tr><td>14</td><td>114</td><td>220</td><td>2025-01-10T12:00:00Z</td><td>3</td><td>80.00</td><td>180.00</td><td>Pending</td><td>2025-01-10T19:12:22.34Z</td></tr><tr><td>1002</td><td>115</td><td>221</td><td>2025-01-03T09:45:00Z</td><td>10</td><td>60.00</td><td>200.00</td><td>Completed</td><td>2025-01-15T12:16:04.18Z</td></tr><tr><td>1002</td><td>115</td><td>221</td><td>2025-01-03T09:45:00Z</td><td>500</td><td>60.00</td><td>200.00</td><td>Completed</td><td>2025-01-15T12:19:13.12Z</td></tr></tbody></table></div>"
      ]
     },
     "metadata": {
      "application/vnd.databricks.v1+output": {
       "addedWidgets": {},
       "aggData": [],
       "aggError": "",
       "aggOverflow": false,
       "aggSchema": [],
       "aggSeriesLimitReached": false,
       "aggType": "",
       "arguments": {},
       "columnCustomDisplayInfos": {},
       "data": [
        [
         1,
         101,
         201,
         "2025-01-01T10:30:00Z",
         2,
         "50.00",
         "100.00",
         "Pending",
         "2025-01-01T10:30:00Z"
        ],
        [
         2,
         102,
         202,
         "2025-01-02T14:15:00Z",
         1,
         "75.50",
         "75.50",
         "Completed",
         "2025-01-02T14:15:00Z"
        ],
        [
         3,
         103,
         203,
         "2025-01-03T09:45:00Z",
         5,
         "20.00",
         "100.00",
         "Shipped",
         "2025-01-03T09:45:00Z"
        ],
        [
         4,
         104,
         204,
         "2025-01-04T16:00:00Z",
         3,
         "150.75",
         "452.25",
         "Cancelled",
         "2025-01-04T16:00:00Z"
        ],
        [
         5,
         105,
         205,
         "2025-01-05T11:20:00Z",
         10,
         "10.50",
         "105.00",
         "Pending",
         "2025-01-05T11:20:00Z"
        ],
        [
         6,
         106,
         206,
         "2025-01-06T18:30:00Z",
         4,
         "99.99",
         "399.96",
         "Completed",
         "2025-01-06T18:30:00Z"
        ],
        [
         7,
         107,
         207,
         "2025-01-07T13:10:00Z",
         7,
         "40.00",
         "280.00",
         "Shipped",
         "2025-01-07T13:10:00Z"
        ],
        [
         8,
         108,
         208,
         "2025-01-08T15:45:00Z",
         6,
         "25.25",
         "151.50",
         "Pending",
         "2025-01-08T15:45:00Z"
        ],
        [
         9,
         109,
         209,
         "2025-01-09T10:00:00Z",
         12,
         "8.99",
         "107.88",
         "Completed",
         "2025-01-09T10:00:00Z"
        ],
        [
         10,
         10,
         110,
         "2025-01-10T12:00:00Z",
         3,
         "60.00",
         "180.00",
         "Pending",
         "2025-01-10T12:00:00Z"
        ],
        [
         11,
         110,
         210,
         "2025-01-10T12:00:00Z",
         3,
         "60.00",
         "180.00",
         "Pending",
         "2025-01-10T12:00:00Z"
        ],
        [
         12,
         111,
         213,
         "2025-01-10T12:00:00Z",
         3,
         "60.00",
         "180.00",
         "Pending",
         "2025-01-10T18:57:21.963Z"
        ],
        [
         13,
         112,
         215,
         "2025-01-10T12:00:00Z",
         3,
         "80.00",
         "180.00",
         "Pending",
         "2025-01-10T19:10:16.757Z"
        ],
        [
         14,
         114,
         220,
         "2025-01-10T12:00:00Z",
         3,
         "80.00",
         "180.00",
         "Pending",
         "2025-01-10T19:12:22.34Z"
        ],
        [
         1002,
         115,
         221,
         "2025-01-03T09:45:00Z",
         10,
         "60.00",
         "200.00",
         "Completed",
         "2025-01-15T12:16:04.18Z"
        ],
        [
         1002,
         115,
         221,
         "2025-01-03T09:45:00Z",
         500,
         "60.00",
         "200.00",
         "Completed",
         "2025-01-15T12:19:13.12Z"
        ]
       ],
       "datasetInfos": [],
       "dbfsResultPath": null,
       "isJsonSchema": true,
       "metadata": {},
       "overflow": false,
       "plotOptions": {
        "customPlotOptions": {},
        "displayType": "table",
        "pivotAggregation": null,
        "pivotColumns": null,
        "xColumns": null,
        "yColumns": null
       },
       "removedWidgets": [],
       "schema": [
        {
         "metadata": "{}",
         "name": "OrderID",
         "type": "\"integer\""
        },
        {
         "metadata": "{}",
         "name": "CustomerID",
         "type": "\"integer\""
        },
        {
         "metadata": "{}",
         "name": "ProductID",
         "type": "\"integer\""
        },
        {
         "metadata": "{}",
         "name": "OrderDate",
         "type": "\"timestamp\""
        },
        {
         "metadata": "{}",
         "name": "Quantity",
         "type": "\"integer\""
        },
        {
         "metadata": "{}",
         "name": "UnitPrice",
         "type": "\"decimal(10,2)\""
        },
        {
         "metadata": "{}",
         "name": "TotalAmount",
         "type": "\"decimal(12,2)\""
        },
        {
         "metadata": "{}",
         "name": "OrderStatus",
         "type": "\"string\""
        },
        {
         "metadata": "{}",
         "name": "LastUpdated",
         "type": "\"timestamp\""
        }
       ],
       "type": "table"
      }
     },
     "output_type": "display_data"
    }
   ],
   "source": [
    "# Read data from Bronze layer\n",
    "bronze_data = spark.read.format(\"parquet\").load(raw_path)\n",
    "\n",
    "\n",
    "\n",
    "# Print schema to verify structure\n",
    "display(bronze_data)\n"
   ]
  },
  {
   "cell_type": "code",
   "execution_count": 0,
   "metadata": {
    "application/vnd.databricks.v1+cell": {
     "cellMetadata": {
      "byteLimit": 2048000,
      "rowLimit": 10000
     },
     "inputWidgets": {},
     "nuid": "70a36e22-77f6-45af-a8ab-195a1b809f40",
     "showTitle": false,
     "tableResultSettingsMap": {},
     "title": ""
    }
   },
   "outputs": [
    {
     "output_type": "display_data",
     "data": {
      "text/html": [
       "<style scoped>\n",
       "  .table-result-container {\n",
       "    max-height: 300px;\n",
       "    overflow: auto;\n",
       "  }\n",
       "  table, th, td {\n",
       "    border: 1px solid black;\n",
       "    border-collapse: collapse;\n",
       "  }\n",
       "  th, td {\n",
       "    padding: 5px;\n",
       "  }\n",
       "  th {\n",
       "    text-align: left;\n",
       "  }\n",
       "</style><div class='table-result-container'><table class='table-result'><thead style='background-color: white'><tr><th>OrderID</th><th>CustomerID</th><th>ProductID</th><th>OrderDate</th><th>Quantity</th><th>UnitPrice</th><th>TotalAmount</th><th>OrderStatus</th><th>LastUpdated</th><th>_rescued_data</th><th>IngestedAt</th></tr></thead><tbody><tr><td>1</td><td>101</td><td>201</td><td>2025-01-01T10:30:00Z</td><td>2</td><td>50.00</td><td>100.00</td><td>Pending</td><td>2025-01-01T10:30:00Z</td><td>null</td><td>2025-01-15T06:40:11.095Z</td></tr><tr><td>2</td><td>102</td><td>202</td><td>2025-01-02T14:15:00Z</td><td>1</td><td>75.50</td><td>75.50</td><td>Completed</td><td>2025-01-02T14:15:00Z</td><td>null</td><td>2025-01-15T06:40:11.095Z</td></tr><tr><td>3</td><td>103</td><td>203</td><td>2025-01-03T09:45:00Z</td><td>5</td><td>20.00</td><td>100.00</td><td>Shipped</td><td>2025-01-03T09:45:00Z</td><td>null</td><td>2025-01-15T06:40:11.095Z</td></tr><tr><td>4</td><td>104</td><td>204</td><td>2025-01-04T16:00:00Z</td><td>3</td><td>150.75</td><td>452.25</td><td>Cancelled</td><td>2025-01-04T16:00:00Z</td><td>null</td><td>2025-01-15T06:40:11.095Z</td></tr><tr><td>5</td><td>105</td><td>205</td><td>2025-01-05T11:20:00Z</td><td>10</td><td>10.50</td><td>105.00</td><td>Pending</td><td>2025-01-05T11:20:00Z</td><td>null</td><td>2025-01-15T06:40:11.095Z</td></tr><tr><td>6</td><td>106</td><td>206</td><td>2025-01-06T18:30:00Z</td><td>4</td><td>99.99</td><td>399.96</td><td>Completed</td><td>2025-01-06T18:30:00Z</td><td>null</td><td>2025-01-15T06:40:11.095Z</td></tr><tr><td>7</td><td>107</td><td>207</td><td>2025-01-07T13:10:00Z</td><td>7</td><td>40.00</td><td>280.00</td><td>Shipped</td><td>2025-01-07T13:10:00Z</td><td>null</td><td>2025-01-15T06:40:11.095Z</td></tr><tr><td>8</td><td>108</td><td>208</td><td>2025-01-08T15:45:00Z</td><td>6</td><td>25.25</td><td>151.50</td><td>Pending</td><td>2025-01-08T15:45:00Z</td><td>null</td><td>2025-01-15T06:40:11.095Z</td></tr><tr><td>9</td><td>109</td><td>209</td><td>2025-01-09T10:00:00Z</td><td>12</td><td>8.99</td><td>107.88</td><td>Completed</td><td>2025-01-09T10:00:00Z</td><td>null</td><td>2025-01-15T06:40:11.095Z</td></tr><tr><td>10</td><td>10</td><td>110</td><td>2025-01-10T12:00:00Z</td><td>3</td><td>60.00</td><td>180.00</td><td>Pending</td><td>2025-01-10T12:00:00Z</td><td>null</td><td>2025-01-15T06:40:11.095Z</td></tr><tr><td>11</td><td>110</td><td>210</td><td>2025-01-10T12:00:00Z</td><td>3</td><td>60.00</td><td>180.00</td><td>Pending</td><td>2025-01-10T12:00:00Z</td><td>null</td><td>2025-01-15T06:40:11.095Z</td></tr><tr><td>12</td><td>111</td><td>213</td><td>2025-01-10T12:00:00Z</td><td>3</td><td>60.00</td><td>180.00</td><td>Pending</td><td>2025-01-10T18:57:21.963Z</td><td>null</td><td>2025-01-15T06:40:11.095Z</td></tr><tr><td>13</td><td>112</td><td>215</td><td>2025-01-10T12:00:00Z</td><td>3</td><td>80.00</td><td>180.00</td><td>Pending</td><td>2025-01-10T19:10:16.757Z</td><td>null</td><td>2025-01-15T06:40:11.095Z</td></tr><tr><td>14</td><td>114</td><td>220</td><td>2025-01-10T12:00:00Z</td><td>3</td><td>80.00</td><td>180.00</td><td>Pending</td><td>2025-01-10T19:12:22.34Z</td><td>null</td><td>2025-01-15T06:40:11.095Z</td></tr><tr><td>1002</td><td>115</td><td>221</td><td>2025-01-03T09:45:00Z</td><td>10</td><td>60.00</td><td>200.00</td><td>Completed</td><td>2025-01-15T12:16:04.18Z</td><td>null</td><td>2025-01-15T06:46:53.531Z</td></tr><tr><td>1002</td><td>115</td><td>221</td><td>2025-01-03T09:45:00Z</td><td>500</td><td>60.00</td><td>200.00</td><td>Completed</td><td>2025-01-15T12:19:13.12Z</td><td>null</td><td>2025-01-15T06:49:49.359Z</td></tr></tbody></table></div>"
      ]
     },
     "metadata": {
      "application/vnd.databricks.v1+output": {
       "addedWidgets": {},
       "aggData": [],
       "aggError": "",
       "aggOverflow": false,
       "aggSchema": [],
       "aggSeriesLimitReached": false,
       "aggType": "",
       "arguments": {},
       "columnCustomDisplayInfos": {},
       "data": [
        [
         1,
         101,
         201,
         "2025-01-01T10:30:00Z",
         2,
         "50.00",
         "100.00",
         "Pending",
         "2025-01-01T10:30:00Z",
         null,
         "2025-01-15T06:40:11.095Z"
        ],
        [
         2,
         102,
         202,
         "2025-01-02T14:15:00Z",
         1,
         "75.50",
         "75.50",
         "Completed",
         "2025-01-02T14:15:00Z",
         null,
         "2025-01-15T06:40:11.095Z"
        ],
        [
         3,
         103,
         203,
         "2025-01-03T09:45:00Z",
         5,
         "20.00",
         "100.00",
         "Shipped",
         "2025-01-03T09:45:00Z",
         null,
         "2025-01-15T06:40:11.095Z"
        ],
        [
         4,
         104,
         204,
         "2025-01-04T16:00:00Z",
         3,
         "150.75",
         "452.25",
         "Cancelled",
         "2025-01-04T16:00:00Z",
         null,
         "2025-01-15T06:40:11.095Z"
        ],
        [
         5,
         105,
         205,
         "2025-01-05T11:20:00Z",
         10,
         "10.50",
         "105.00",
         "Pending",
         "2025-01-05T11:20:00Z",
         null,
         "2025-01-15T06:40:11.095Z"
        ],
        [
         6,
         106,
         206,
         "2025-01-06T18:30:00Z",
         4,
         "99.99",
         "399.96",
         "Completed",
         "2025-01-06T18:30:00Z",
         null,
         "2025-01-15T06:40:11.095Z"
        ],
        [
         7,
         107,
         207,
         "2025-01-07T13:10:00Z",
         7,
         "40.00",
         "280.00",
         "Shipped",
         "2025-01-07T13:10:00Z",
         null,
         "2025-01-15T06:40:11.095Z"
        ],
        [
         8,
         108,
         208,
         "2025-01-08T15:45:00Z",
         6,
         "25.25",
         "151.50",
         "Pending",
         "2025-01-08T15:45:00Z",
         null,
         "2025-01-15T06:40:11.095Z"
        ],
        [
         9,
         109,
         209,
         "2025-01-09T10:00:00Z",
         12,
         "8.99",
         "107.88",
         "Completed",
         "2025-01-09T10:00:00Z",
         null,
         "2025-01-15T06:40:11.095Z"
        ],
        [
         10,
         10,
         110,
         "2025-01-10T12:00:00Z",
         3,
         "60.00",
         "180.00",
         "Pending",
         "2025-01-10T12:00:00Z",
         null,
         "2025-01-15T06:40:11.095Z"
        ],
        [
         11,
         110,
         210,
         "2025-01-10T12:00:00Z",
         3,
         "60.00",
         "180.00",
         "Pending",
         "2025-01-10T12:00:00Z",
         null,
         "2025-01-15T06:40:11.095Z"
        ],
        [
         12,
         111,
         213,
         "2025-01-10T12:00:00Z",
         3,
         "60.00",
         "180.00",
         "Pending",
         "2025-01-10T18:57:21.963Z",
         null,
         "2025-01-15T06:40:11.095Z"
        ],
        [
         13,
         112,
         215,
         "2025-01-10T12:00:00Z",
         3,
         "80.00",
         "180.00",
         "Pending",
         "2025-01-10T19:10:16.757Z",
         null,
         "2025-01-15T06:40:11.095Z"
        ],
        [
         14,
         114,
         220,
         "2025-01-10T12:00:00Z",
         3,
         "80.00",
         "180.00",
         "Pending",
         "2025-01-10T19:12:22.34Z",
         null,
         "2025-01-15T06:40:11.095Z"
        ],
        [
         1002,
         115,
         221,
         "2025-01-03T09:45:00Z",
         10,
         "60.00",
         "200.00",
         "Completed",
         "2025-01-15T12:16:04.18Z",
         null,
         "2025-01-15T06:46:53.531Z"
        ],
        [
         1002,
         115,
         221,
         "2025-01-03T09:45:00Z",
         500,
         "60.00",
         "200.00",
         "Completed",
         "2025-01-15T12:19:13.12Z",
         null,
         "2025-01-15T06:49:49.359Z"
        ]
       ],
       "datasetInfos": [],
       "dbfsResultPath": null,
       "isJsonSchema": true,
       "metadata": {},
       "overflow": false,
       "plotOptions": {
        "customPlotOptions": {},
        "displayType": "table",
        "pivotAggregation": null,
        "pivotColumns": null,
        "xColumns": null,
        "yColumns": null
       },
       "removedWidgets": [],
       "schema": [
        {
         "metadata": "{}",
         "name": "OrderID",
         "type": "\"integer\""
        },
        {
         "metadata": "{}",
         "name": "CustomerID",
         "type": "\"integer\""
        },
        {
         "metadata": "{}",
         "name": "ProductID",
         "type": "\"integer\""
        },
        {
         "metadata": "{}",
         "name": "OrderDate",
         "type": "\"timestamp\""
        },
        {
         "metadata": "{}",
         "name": "Quantity",
         "type": "\"integer\""
        },
        {
         "metadata": "{}",
         "name": "UnitPrice",
         "type": "\"decimal(10,2)\""
        },
        {
         "metadata": "{}",
         "name": "TotalAmount",
         "type": "\"decimal(12,2)\""
        },
        {
         "metadata": "{}",
         "name": "OrderStatus",
         "type": "\"string\""
        },
        {
         "metadata": "{}",
         "name": "LastUpdated",
         "type": "\"timestamp\""
        },
        {
         "metadata": "{}",
         "name": "_rescued_data",
         "type": "\"string\""
        },
        {
         "metadata": "{}",
         "name": "IngestedAt",
         "type": "\"timestamp\""
        }
       ],
       "type": "table"
      }
     },
     "output_type": "display_data"
    }
   ],
   "source": [
    "\n",
    "# Read data from Silver layer\n",
    "stream_data = spark.read.format(\"delta\").load(bronze_path)\n",
    "\n",
    "display(stream_data)"
   ]
  },
  {
   "cell_type": "code",
   "execution_count": 0,
   "metadata": {
    "application/vnd.databricks.v1+cell": {
     "cellMetadata": {
      "byteLimit": 2048000,
      "rowLimit": 10000
     },
     "inputWidgets": {},
     "nuid": "3c6e4b32-dd6c-437e-b86b-dddd59a6ecc7",
     "showTitle": false,
     "tableResultSettingsMap": {},
     "title": ""
    }
   },
   "outputs": [
    {
     "output_type": "execute_result",
     "data": {
      "text/plain": [
       "<pyspark.sql.streaming.query.StreamingQuery at 0x7fea4a206540>"
      ]
     },
     "execution_count": 18,
     "metadata": {},
     "output_type": "execute_result"
    }
   ],
   "source": [
    "from delta.tables import DeltaTable\n",
    "from pyspark.sql.window import Window\n",
    "from pyspark.sql.functions import row_number\n",
    "\n",
    "# Paths\n",
    "bronze_path = \"/mnt/bronze-auto/sales_order\"\n",
    "silver_path = \"/mnt/silver-ankit/sales_order\"\n",
    "\n",
    "# Read the Bronze Delta Table as a streaming DataFrame\n",
    "bronze_stream_df = (spark.readStream\n",
    "                    .format(\"delta\")\n",
    "                    .load(bronze_path))\n",
    "\n",
    "# Deduplicate records in the micro-batch\n",
    "def deduplicate_bronze_records(df):\n",
    "    window_spec = Window.partitionBy(\"OrderID\").orderBy(\"LastUpdated\")\n",
    "    return df.withColumn(\"row_number\", row_number().over(window_spec)).filter(\"row_number = 1\").drop(\"row_number\")\n",
    "\n",
    "# Initialize Silver Table if it doesn't exist\n",
    "if not DeltaTable.isDeltaTable(spark, silver_path):\n",
    "    bronze_batch_df = spark.read.format(\"delta\").load(bronze_path)\n",
    "    bronze_batch_df.write.format(\"delta\").save(silver_path)\n",
    "\n",
    "# Define the merge logic for CDC\n",
    "def upsert_to_silver(microBatchOutputDF, batchId):\n",
    "    deduplicated_df = deduplicate_bronze_records(microBatchOutputDF)\n",
    "    \n",
    "    silver_table = DeltaTable.forPath(spark, silver_path)\n",
    "    silver_table.alias(\"silver\").merge(\n",
    "        source=deduplicated_df.alias(\"bronze\"),\n",
    "        condition=\"silver.OrderID = bronze.OrderID\"\n",
    "    ).whenMatchedUpdate(set={\n",
    "        \"CustomerID\": \"bronze.CustomerID\",\n",
    "        \"ProductID\": \"bronze.ProductID\",\n",
    "        \"OrderDate\": \"bronze.OrderDate\",\n",
    "        \"Quantity\": \"bronze.Quantity\",\n",
    "        \"UnitPrice\": \"bronze.UnitPrice\",\n",
    "        \"TotalAmount\": \"bronze.TotalAmount\",\n",
    "        \"OrderStatus\": \"bronze.OrderStatus\",\n",
    "        \"LastUpdated\": \"bronze.LastUpdated\",\n",
    "        \"IngestedAt\": \"bronze.IngestedAt\"\n",
    "    }).whenNotMatchedInsert(values={\n",
    "        \"OrderID\": \"bronze.OrderID\",\n",
    "        \"CustomerID\": \"bronze.CustomerID\",\n",
    "        \"ProductID\": \"bronze.ProductID\",\n",
    "        \"OrderDate\": \"bronze.OrderDate\",\n",
    "        \"Quantity\": \"bronze.Quantity\",\n",
    "        \"UnitPrice\": \"bronze.UnitPrice\",\n",
    "        \"TotalAmount\": \"bronze.TotalAmount\",\n",
    "        \"OrderStatus\": \"bronze.OrderStatus\",\n",
    "        \"LastUpdated\": \"bronze.LastUpdated\",\n",
    "        \"IngestedAt\": \"bronze.IngestedAt\"\n",
    "    }).execute()\n",
    "\n",
    "# Write the streaming DataFrame to the Silver Delta Table\n",
    "(bronze_stream_df.writeStream\n",
    " .foreachBatch(upsert_to_silver)\n",
    " .trigger(once=True)  # Trigger the stream to run once and terminate\n",
    " .outputMode(\"update\")\n",
    " .option(\"checkpointLocation\", f\"{silver_path}/_checkpoint\")\n",
    " .start())\n"
   ]
  },
  {
   "cell_type": "code",
   "execution_count": 0,
   "metadata": {
    "application/vnd.databricks.v1+cell": {
     "cellMetadata": {
      "byteLimit": 2048000,
      "rowLimit": 10000
     },
     "inputWidgets": {},
     "nuid": "7f6fb8ae-0848-4863-81be-702c71196c46",
     "showTitle": false,
     "tableResultSettingsMap": {},
     "title": ""
    }
   },
   "outputs": [
    {
     "output_type": "display_data",
     "data": {
      "text/html": [
       "<style scoped>\n",
       "  .table-result-container {\n",
       "    max-height: 300px;\n",
       "    overflow: auto;\n",
       "  }\n",
       "  table, th, td {\n",
       "    border: 1px solid black;\n",
       "    border-collapse: collapse;\n",
       "  }\n",
       "  th, td {\n",
       "    padding: 5px;\n",
       "  }\n",
       "  th {\n",
       "    text-align: left;\n",
       "  }\n",
       "</style><div class='table-result-container'><table class='table-result'><thead style='background-color: white'><tr><th>OrderID</th><th>CustomerID</th><th>ProductID</th><th>OrderDate</th><th>Quantity</th><th>UnitPrice</th><th>TotalAmount</th><th>OrderStatus</th><th>LastUpdated</th><th>_rescued_data</th><th>IngestedAt</th></tr></thead><tbody><tr><td>1</td><td>101</td><td>201</td><td>2025-01-01T10:30:00Z</td><td>2</td><td>50.00</td><td>100.00</td><td>Pending</td><td>2025-01-01T10:30:00Z</td><td>null</td><td>2025-01-15T06:40:11.095Z</td></tr><tr><td>2</td><td>102</td><td>202</td><td>2025-01-02T14:15:00Z</td><td>1</td><td>75.50</td><td>75.50</td><td>Completed</td><td>2025-01-02T14:15:00Z</td><td>null</td><td>2025-01-15T06:40:11.095Z</td></tr><tr><td>3</td><td>103</td><td>203</td><td>2025-01-03T09:45:00Z</td><td>5</td><td>20.00</td><td>100.00</td><td>Shipped</td><td>2025-01-03T09:45:00Z</td><td>null</td><td>2025-01-15T06:40:11.095Z</td></tr><tr><td>4</td><td>104</td><td>204</td><td>2025-01-04T16:00:00Z</td><td>3</td><td>150.75</td><td>452.25</td><td>Cancelled</td><td>2025-01-04T16:00:00Z</td><td>null</td><td>2025-01-15T06:40:11.095Z</td></tr><tr><td>5</td><td>105</td><td>205</td><td>2025-01-05T11:20:00Z</td><td>10</td><td>10.50</td><td>105.00</td><td>Pending</td><td>2025-01-05T11:20:00Z</td><td>null</td><td>2025-01-15T06:40:11.095Z</td></tr><tr><td>6</td><td>106</td><td>206</td><td>2025-01-06T18:30:00Z</td><td>4</td><td>99.99</td><td>399.96</td><td>Completed</td><td>2025-01-06T18:30:00Z</td><td>null</td><td>2025-01-15T06:40:11.095Z</td></tr><tr><td>7</td><td>107</td><td>207</td><td>2025-01-07T13:10:00Z</td><td>7</td><td>40.00</td><td>280.00</td><td>Shipped</td><td>2025-01-07T13:10:00Z</td><td>null</td><td>2025-01-15T06:40:11.095Z</td></tr><tr><td>8</td><td>108</td><td>208</td><td>2025-01-08T15:45:00Z</td><td>6</td><td>25.25</td><td>151.50</td><td>Pending</td><td>2025-01-08T15:45:00Z</td><td>null</td><td>2025-01-15T06:40:11.095Z</td></tr><tr><td>9</td><td>109</td><td>209</td><td>2025-01-09T10:00:00Z</td><td>12</td><td>8.99</td><td>107.88</td><td>Completed</td><td>2025-01-09T10:00:00Z</td><td>null</td><td>2025-01-15T06:40:11.095Z</td></tr><tr><td>10</td><td>10</td><td>110</td><td>2025-01-10T12:00:00Z</td><td>3</td><td>60.00</td><td>180.00</td><td>Pending</td><td>2025-01-10T12:00:00Z</td><td>null</td><td>2025-01-15T06:40:11.095Z</td></tr><tr><td>11</td><td>110</td><td>210</td><td>2025-01-10T12:00:00Z</td><td>3</td><td>60.00</td><td>180.00</td><td>Pending</td><td>2025-01-10T12:00:00Z</td><td>null</td><td>2025-01-15T06:40:11.095Z</td></tr><tr><td>12</td><td>111</td><td>213</td><td>2025-01-10T12:00:00Z</td><td>3</td><td>60.00</td><td>180.00</td><td>Pending</td><td>2025-01-10T18:57:21.963Z</td><td>null</td><td>2025-01-15T06:40:11.095Z</td></tr><tr><td>13</td><td>112</td><td>215</td><td>2025-01-10T12:00:00Z</td><td>3</td><td>80.00</td><td>180.00</td><td>Pending</td><td>2025-01-10T19:10:16.757Z</td><td>null</td><td>2025-01-15T06:40:11.095Z</td></tr><tr><td>14</td><td>114</td><td>220</td><td>2025-01-10T12:00:00Z</td><td>3</td><td>80.00</td><td>180.00</td><td>Pending</td><td>2025-01-10T19:12:22.34Z</td><td>null</td><td>2025-01-15T06:40:11.095Z</td></tr><tr><td>1002</td><td>115</td><td>221</td><td>2025-01-03T09:45:00Z</td><td>500</td><td>60.00</td><td>200.00</td><td>Completed</td><td>2025-01-15T12:19:13.12Z</td><td>null</td><td>2025-01-15T06:49:49.359Z</td></tr></tbody></table></div>"
      ]
     },
     "metadata": {
      "application/vnd.databricks.v1+output": {
       "addedWidgets": {},
       "aggData": [],
       "aggError": "",
       "aggOverflow": false,
       "aggSchema": [],
       "aggSeriesLimitReached": false,
       "aggType": "",
       "arguments": {},
       "columnCustomDisplayInfos": {},
       "data": [
        [
         1,
         101,
         201,
         "2025-01-01T10:30:00Z",
         2,
         "50.00",
         "100.00",
         "Pending",
         "2025-01-01T10:30:00Z",
         null,
         "2025-01-15T06:40:11.095Z"
        ],
        [
         2,
         102,
         202,
         "2025-01-02T14:15:00Z",
         1,
         "75.50",
         "75.50",
         "Completed",
         "2025-01-02T14:15:00Z",
         null,
         "2025-01-15T06:40:11.095Z"
        ],
        [
         3,
         103,
         203,
         "2025-01-03T09:45:00Z",
         5,
         "20.00",
         "100.00",
         "Shipped",
         "2025-01-03T09:45:00Z",
         null,
         "2025-01-15T06:40:11.095Z"
        ],
        [
         4,
         104,
         204,
         "2025-01-04T16:00:00Z",
         3,
         "150.75",
         "452.25",
         "Cancelled",
         "2025-01-04T16:00:00Z",
         null,
         "2025-01-15T06:40:11.095Z"
        ],
        [
         5,
         105,
         205,
         "2025-01-05T11:20:00Z",
         10,
         "10.50",
         "105.00",
         "Pending",
         "2025-01-05T11:20:00Z",
         null,
         "2025-01-15T06:40:11.095Z"
        ],
        [
         6,
         106,
         206,
         "2025-01-06T18:30:00Z",
         4,
         "99.99",
         "399.96",
         "Completed",
         "2025-01-06T18:30:00Z",
         null,
         "2025-01-15T06:40:11.095Z"
        ],
        [
         7,
         107,
         207,
         "2025-01-07T13:10:00Z",
         7,
         "40.00",
         "280.00",
         "Shipped",
         "2025-01-07T13:10:00Z",
         null,
         "2025-01-15T06:40:11.095Z"
        ],
        [
         8,
         108,
         208,
         "2025-01-08T15:45:00Z",
         6,
         "25.25",
         "151.50",
         "Pending",
         "2025-01-08T15:45:00Z",
         null,
         "2025-01-15T06:40:11.095Z"
        ],
        [
         9,
         109,
         209,
         "2025-01-09T10:00:00Z",
         12,
         "8.99",
         "107.88",
         "Completed",
         "2025-01-09T10:00:00Z",
         null,
         "2025-01-15T06:40:11.095Z"
        ],
        [
         10,
         10,
         110,
         "2025-01-10T12:00:00Z",
         3,
         "60.00",
         "180.00",
         "Pending",
         "2025-01-10T12:00:00Z",
         null,
         "2025-01-15T06:40:11.095Z"
        ],
        [
         11,
         110,
         210,
         "2025-01-10T12:00:00Z",
         3,
         "60.00",
         "180.00",
         "Pending",
         "2025-01-10T12:00:00Z",
         null,
         "2025-01-15T06:40:11.095Z"
        ],
        [
         12,
         111,
         213,
         "2025-01-10T12:00:00Z",
         3,
         "60.00",
         "180.00",
         "Pending",
         "2025-01-10T18:57:21.963Z",
         null,
         "2025-01-15T06:40:11.095Z"
        ],
        [
         13,
         112,
         215,
         "2025-01-10T12:00:00Z",
         3,
         "80.00",
         "180.00",
         "Pending",
         "2025-01-10T19:10:16.757Z",
         null,
         "2025-01-15T06:40:11.095Z"
        ],
        [
         14,
         114,
         220,
         "2025-01-10T12:00:00Z",
         3,
         "80.00",
         "180.00",
         "Pending",
         "2025-01-10T19:12:22.34Z",
         null,
         "2025-01-15T06:40:11.095Z"
        ],
        [
         1002,
         115,
         221,
         "2025-01-03T09:45:00Z",
         500,
         "60.00",
         "200.00",
         "Completed",
         "2025-01-15T12:19:13.12Z",
         null,
         "2025-01-15T06:49:49.359Z"
        ]
       ],
       "datasetInfos": [],
       "dbfsResultPath": null,
       "isJsonSchema": true,
       "metadata": {},
       "overflow": false,
       "plotOptions": {
        "customPlotOptions": {},
        "displayType": "table",
        "pivotAggregation": null,
        "pivotColumns": null,
        "xColumns": null,
        "yColumns": null
       },
       "removedWidgets": [],
       "schema": [
        {
         "metadata": "{}",
         "name": "OrderID",
         "type": "\"integer\""
        },
        {
         "metadata": "{}",
         "name": "CustomerID",
         "type": "\"integer\""
        },
        {
         "metadata": "{}",
         "name": "ProductID",
         "type": "\"integer\""
        },
        {
         "metadata": "{}",
         "name": "OrderDate",
         "type": "\"timestamp\""
        },
        {
         "metadata": "{}",
         "name": "Quantity",
         "type": "\"integer\""
        },
        {
         "metadata": "{}",
         "name": "UnitPrice",
         "type": "\"decimal(10,2)\""
        },
        {
         "metadata": "{}",
         "name": "TotalAmount",
         "type": "\"decimal(12,2)\""
        },
        {
         "metadata": "{}",
         "name": "OrderStatus",
         "type": "\"string\""
        },
        {
         "metadata": "{}",
         "name": "LastUpdated",
         "type": "\"timestamp\""
        },
        {
         "metadata": "{}",
         "name": "_rescued_data",
         "type": "\"string\""
        },
        {
         "metadata": "{}",
         "name": "IngestedAt",
         "type": "\"timestamp\""
        }
       ],
       "type": "table"
      }
     },
     "output_type": "display_data"
    }
   ],
   "source": [
    "# Path to the Silver Delta Table\n",
    "silver_path = \"/mnt/silver-ankit/sales_order\"\n",
    "\n",
    "# Read the Silver table as a batch DataFrame\n",
    "silver_df = spark.read.format(\"delta\").load(silver_path)\n",
    "\n",
    "# Show the data\n",
    "display(silver_df)\n"
   ]
  },
  {
   "cell_type": "code",
   "execution_count": 0,
   "metadata": {
    "application/vnd.databricks.v1+cell": {
     "cellMetadata": {
      "byteLimit": 2048000,
      "implicitDf": true,
      "rowLimit": 10000
     },
     "inputWidgets": {},
     "nuid": "a56295ab-b3dd-457c-9395-e4102d3a311b",
     "showTitle": false,
     "tableResultSettingsMap": {},
     "title": ""
    }
   },
   "outputs": [
    {
     "output_type": "display_data",
     "data": {
      "text/html": [
       "<style scoped>\n",
       "  .table-result-container {\n",
       "    max-height: 300px;\n",
       "    overflow: auto;\n",
       "  }\n",
       "  table, th, td {\n",
       "    border: 1px solid black;\n",
       "    border-collapse: collapse;\n",
       "  }\n",
       "  th, td {\n",
       "    padding: 5px;\n",
       "  }\n",
       "  th {\n",
       "    text-align: left;\n",
       "  }\n",
       "</style><div class='table-result-container'><table class='table-result'><thead style='background-color: white'><tr><th>version</th><th>timestamp</th><th>userId</th><th>userName</th><th>operation</th><th>operationParameters</th><th>job</th><th>notebook</th><th>clusterId</th><th>readVersion</th><th>isolationLevel</th><th>isBlindAppend</th><th>operationMetrics</th><th>userMetadata</th><th>engineInfo</th></tr></thead><tbody><tr><td>3</td><td>2025-01-15T06:50:31Z</td><td>7094078440423603</td><td>28ankit.raghu@gmail.com</td><td>MERGE</td><td>Map(predicate -> [\"(OrderID#57949 = OrderID#57696)\"], clusterBy -> [], matchedPredicates -> [{\"actionType\":\"update\"}], statsOnLoad -> false, notMatchedBySourcePredicates -> [], notMatchedPredicates -> [{\"actionType\":\"insert\"}])</td><td>null</td><td>List(3581695015416350)</td><td>0107-100201-c3skwga5</td><td>2</td><td>WriteSerializable</td><td>false</td><td>Map(numTargetRowsCopied -> 0, numTargetRowsDeleted -> 0, numTargetFilesAdded -> 1, numTargetBytesAdded -> 3159, numTargetBytesRemoved -> 3159, numTargetDeletionVectorsAdded -> 0, numTargetRowsMatchedUpdated -> 1, executionTimeMs -> 1744, materializeSourceTimeMs -> 354, numTargetRowsInserted -> 0, numTargetRowsMatchedDeleted -> 0, numTargetDeletionVectorsUpdated -> 0, scanTimeMs -> 735, numTargetRowsUpdated -> 1, numOutputRows -> 1, numTargetDeletionVectorsRemoved -> 0, numTargetRowsNotMatchedBySourceUpdated -> 0, numTargetChangeFilesAdded -> 0, numSourceRows -> 1, numTargetFilesRemoved -> 1, numTargetRowsNotMatchedBySourceDeleted -> 0, rewriteTimeMs -> 635)</td><td>null</td><td>Databricks-Runtime/16.1.x-scala2.12</td></tr><tr><td>2</td><td>2025-01-15T06:47:30Z</td><td>7094078440423603</td><td>28ankit.raghu@gmail.com</td><td>MERGE</td><td>Map(predicate -> [\"(OrderID#49449 = OrderID#48883)\"], clusterBy -> [], matchedPredicates -> [{\"actionType\":\"update\"}], statsOnLoad -> false, notMatchedBySourcePredicates -> [], notMatchedPredicates -> [{\"actionType\":\"insert\"}])</td><td>null</td><td>List(3581695015416350)</td><td>0107-100201-c3skwga5</td><td>1</td><td>WriteSerializable</td><td>false</td><td>Map(numTargetRowsCopied -> 0, numTargetRowsDeleted -> 0, numTargetFilesAdded -> 1, numTargetBytesAdded -> 3159, numTargetBytesRemoved -> 0, numTargetDeletionVectorsAdded -> 0, numTargetRowsMatchedUpdated -> 0, executionTimeMs -> 1285, materializeSourceTimeMs -> 306, numTargetRowsInserted -> 1, numTargetRowsMatchedDeleted -> 0, numTargetDeletionVectorsUpdated -> 0, scanTimeMs -> 536, numTargetRowsUpdated -> 0, numOutputRows -> 1, numTargetDeletionVectorsRemoved -> 0, numTargetRowsNotMatchedBySourceUpdated -> 0, numTargetChangeFilesAdded -> 0, numSourceRows -> 1, numTargetFilesRemoved -> 0, numTargetRowsNotMatchedBySourceDeleted -> 0, rewriteTimeMs -> 421)</td><td>null</td><td>Databricks-Runtime/16.1.x-scala2.12</td></tr><tr><td>1</td><td>2025-01-15T06:41:26Z</td><td>7094078440423603</td><td>28ankit.raghu@gmail.com</td><td>MERGE</td><td>Map(predicate -> [\"(OrderID#32907 = OrderID#32100)\"], clusterBy -> [], matchedPredicates -> [{\"actionType\":\"update\"}], statsOnLoad -> false, notMatchedBySourcePredicates -> [], notMatchedPredicates -> [{\"actionType\":\"insert\"}])</td><td>null</td><td>List(3581695015416350)</td><td>0107-100201-c3skwga5</td><td>0</td><td>WriteSerializable</td><td>false</td><td>Map(numTargetRowsCopied -> 0, numTargetRowsDeleted -> 0, numTargetFilesAdded -> 1, numTargetBytesAdded -> 3742, numTargetBytesRemoved -> 3742, numTargetDeletionVectorsAdded -> 0, numTargetRowsMatchedUpdated -> 14, executionTimeMs -> 2988, materializeSourceTimeMs -> 566, numTargetRowsInserted -> 0, numTargetRowsMatchedDeleted -> 0, numTargetDeletionVectorsUpdated -> 0, scanTimeMs -> 1381, numTargetRowsUpdated -> 14, numOutputRows -> 14, numTargetDeletionVectorsRemoved -> 0, numTargetRowsNotMatchedBySourceUpdated -> 0, numTargetChangeFilesAdded -> 0, numSourceRows -> 14, numTargetFilesRemoved -> 1, numTargetRowsNotMatchedBySourceDeleted -> 0, rewriteTimeMs -> 1011)</td><td>null</td><td>Databricks-Runtime/16.1.x-scala2.12</td></tr><tr><td>0</td><td>2025-01-15T06:41:20Z</td><td>7094078440423603</td><td>28ankit.raghu@gmail.com</td><td>WRITE</td><td>Map(mode -> ErrorIfExists, statsOnLoad -> false, partitionBy -> [])</td><td>null</td><td>List(3581695015416350)</td><td>0107-100201-c3skwga5</td><td>null</td><td>WriteSerializable</td><td>true</td><td>Map(numFiles -> 1, numOutputRows -> 14, numOutputBytes -> 3742)</td><td>null</td><td>Databricks-Runtime/16.1.x-scala2.12</td></tr></tbody></table></div>"
      ]
     },
     "metadata": {
      "application/vnd.databricks.v1+output": {
       "addedWidgets": {},
       "aggData": [],
       "aggError": "",
       "aggOverflow": false,
       "aggSchema": [],
       "aggSeriesLimitReached": false,
       "aggType": "",
       "arguments": {},
       "columnCustomDisplayInfos": {},
       "data": [
        [
         3,
         "2025-01-15T06:50:31Z",
         "7094078440423603",
         "28ankit.raghu@gmail.com",
         "MERGE",
         {
          "clusterBy": "[]",
          "matchedPredicates": "[{\"actionType\":\"update\"}]",
          "notMatchedBySourcePredicates": "[]",
          "notMatchedPredicates": "[{\"actionType\":\"insert\"}]",
          "predicate": "[\"(OrderID#57949 = OrderID#57696)\"]",
          "statsOnLoad": "false"
         },
         null,
         [
          "3581695015416350"
         ],
         "0107-100201-c3skwga5",
         2,
         "WriteSerializable",
         false,
         {
          "executionTimeMs": "1744",
          "materializeSourceTimeMs": "354",
          "numOutputRows": "1",
          "numSourceRows": "1",
          "numTargetBytesAdded": "3159",
          "numTargetBytesRemoved": "3159",
          "numTargetChangeFilesAdded": "0",
          "numTargetDeletionVectorsAdded": "0",
          "numTargetDeletionVectorsRemoved": "0",
          "numTargetDeletionVectorsUpdated": "0",
          "numTargetFilesAdded": "1",
          "numTargetFilesRemoved": "1",
          "numTargetRowsCopied": "0",
          "numTargetRowsDeleted": "0",
          "numTargetRowsInserted": "0",
          "numTargetRowsMatchedDeleted": "0",
          "numTargetRowsMatchedUpdated": "1",
          "numTargetRowsNotMatchedBySourceDeleted": "0",
          "numTargetRowsNotMatchedBySourceUpdated": "0",
          "numTargetRowsUpdated": "1",
          "rewriteTimeMs": "635",
          "scanTimeMs": "735"
         },
         null,
         "Databricks-Runtime/16.1.x-scala2.12"
        ],
        [
         2,
         "2025-01-15T06:47:30Z",
         "7094078440423603",
         "28ankit.raghu@gmail.com",
         "MERGE",
         {
          "clusterBy": "[]",
          "matchedPredicates": "[{\"actionType\":\"update\"}]",
          "notMatchedBySourcePredicates": "[]",
          "notMatchedPredicates": "[{\"actionType\":\"insert\"}]",
          "predicate": "[\"(OrderID#49449 = OrderID#48883)\"]",
          "statsOnLoad": "false"
         },
         null,
         [
          "3581695015416350"
         ],
         "0107-100201-c3skwga5",
         1,
         "WriteSerializable",
         false,
         {
          "executionTimeMs": "1285",
          "materializeSourceTimeMs": "306",
          "numOutputRows": "1",
          "numSourceRows": "1",
          "numTargetBytesAdded": "3159",
          "numTargetBytesRemoved": "0",
          "numTargetChangeFilesAdded": "0",
          "numTargetDeletionVectorsAdded": "0",
          "numTargetDeletionVectorsRemoved": "0",
          "numTargetDeletionVectorsUpdated": "0",
          "numTargetFilesAdded": "1",
          "numTargetFilesRemoved": "0",
          "numTargetRowsCopied": "0",
          "numTargetRowsDeleted": "0",
          "numTargetRowsInserted": "1",
          "numTargetRowsMatchedDeleted": "0",
          "numTargetRowsMatchedUpdated": "0",
          "numTargetRowsNotMatchedBySourceDeleted": "0",
          "numTargetRowsNotMatchedBySourceUpdated": "0",
          "numTargetRowsUpdated": "0",
          "rewriteTimeMs": "421",
          "scanTimeMs": "536"
         },
         null,
         "Databricks-Runtime/16.1.x-scala2.12"
        ],
        [
         1,
         "2025-01-15T06:41:26Z",
         "7094078440423603",
         "28ankit.raghu@gmail.com",
         "MERGE",
         {
          "clusterBy": "[]",
          "matchedPredicates": "[{\"actionType\":\"update\"}]",
          "notMatchedBySourcePredicates": "[]",
          "notMatchedPredicates": "[{\"actionType\":\"insert\"}]",
          "predicate": "[\"(OrderID#32907 = OrderID#32100)\"]",
          "statsOnLoad": "false"
         },
         null,
         [
          "3581695015416350"
         ],
         "0107-100201-c3skwga5",
         0,
         "WriteSerializable",
         false,
         {
          "executionTimeMs": "2988",
          "materializeSourceTimeMs": "566",
          "numOutputRows": "14",
          "numSourceRows": "14",
          "numTargetBytesAdded": "3742",
          "numTargetBytesRemoved": "3742",
          "numTargetChangeFilesAdded": "0",
          "numTargetDeletionVectorsAdded": "0",
          "numTargetDeletionVectorsRemoved": "0",
          "numTargetDeletionVectorsUpdated": "0",
          "numTargetFilesAdded": "1",
          "numTargetFilesRemoved": "1",
          "numTargetRowsCopied": "0",
          "numTargetRowsDeleted": "0",
          "numTargetRowsInserted": "0",
          "numTargetRowsMatchedDeleted": "0",
          "numTargetRowsMatchedUpdated": "14",
          "numTargetRowsNotMatchedBySourceDeleted": "0",
          "numTargetRowsNotMatchedBySourceUpdated": "0",
          "numTargetRowsUpdated": "14",
          "rewriteTimeMs": "1011",
          "scanTimeMs": "1381"
         },
         null,
         "Databricks-Runtime/16.1.x-scala2.12"
        ],
        [
         0,
         "2025-01-15T06:41:20Z",
         "7094078440423603",
         "28ankit.raghu@gmail.com",
         "WRITE",
         {
          "mode": "ErrorIfExists",
          "partitionBy": "[]",
          "statsOnLoad": "false"
         },
         null,
         [
          "3581695015416350"
         ],
         "0107-100201-c3skwga5",
         null,
         "WriteSerializable",
         true,
         {
          "numFiles": "1",
          "numOutputBytes": "3742",
          "numOutputRows": "14"
         },
         null,
         "Databricks-Runtime/16.1.x-scala2.12"
        ]
       ],
       "datasetInfos": [],
       "dbfsResultPath": null,
       "isJsonSchema": true,
       "metadata": {
        "createTempViewForImplicitDf": true,
        "dataframeName": "_sqldf",
        "executionCount": 21
       },
       "overflow": false,
       "plotOptions": {
        "customPlotOptions": {},
        "displayType": "table",
        "pivotAggregation": null,
        "pivotColumns": null,
        "xColumns": null,
        "yColumns": null
       },
       "removedWidgets": [],
       "schema": [
        {
         "metadata": "{}",
         "name": "version",
         "type": "\"long\""
        },
        {
         "metadata": "{}",
         "name": "timestamp",
         "type": "\"timestamp\""
        },
        {
         "metadata": "{}",
         "name": "userId",
         "type": "\"string\""
        },
        {
         "metadata": "{}",
         "name": "userName",
         "type": "\"string\""
        },
        {
         "metadata": "{}",
         "name": "operation",
         "type": "\"string\""
        },
        {
         "metadata": "{}",
         "name": "operationParameters",
         "type": "{\"type\":\"map\",\"keyType\":\"string\",\"valueType\":\"string\",\"valueContainsNull\":true}"
        },
        {
         "metadata": "{}",
         "name": "job",
         "type": "{\"type\":\"struct\",\"fields\":[{\"name\":\"jobId\",\"type\":\"string\",\"nullable\":true,\"metadata\":{}},{\"name\":\"jobName\",\"type\":\"string\",\"nullable\":true,\"metadata\":{}},{\"name\":\"jobRunId\",\"type\":\"string\",\"nullable\":true,\"metadata\":{}},{\"name\":\"runId\",\"type\":\"string\",\"nullable\":true,\"metadata\":{}},{\"name\":\"jobOwnerId\",\"type\":\"string\",\"nullable\":true,\"metadata\":{}},{\"name\":\"triggerType\",\"type\":\"string\",\"nullable\":true,\"metadata\":{}}]}"
        },
        {
         "metadata": "{}",
         "name": "notebook",
         "type": "{\"type\":\"struct\",\"fields\":[{\"name\":\"notebookId\",\"type\":\"string\",\"nullable\":true,\"metadata\":{}}]}"
        },
        {
         "metadata": "{}",
         "name": "clusterId",
         "type": "\"string\""
        },
        {
         "metadata": "{}",
         "name": "readVersion",
         "type": "\"long\""
        },
        {
         "metadata": "{}",
         "name": "isolationLevel",
         "type": "\"string\""
        },
        {
         "metadata": "{}",
         "name": "isBlindAppend",
         "type": "\"boolean\""
        },
        {
         "metadata": "{}",
         "name": "operationMetrics",
         "type": "{\"type\":\"map\",\"keyType\":\"string\",\"valueType\":\"string\",\"valueContainsNull\":true}"
        },
        {
         "metadata": "{}",
         "name": "userMetadata",
         "type": "\"string\""
        },
        {
         "metadata": "{}",
         "name": "engineInfo",
         "type": "\"string\""
        }
       ],
       "type": "table"
      }
     },
     "output_type": "display_data"
    }
   ],
   "source": [
    "%sql\n",
    "DESCRIBE HISTORY '/mnt/silver-ankit/sales_order';\n"
   ]
  },
  {
   "cell_type": "code",
   "execution_count": 0,
   "metadata": {
    "application/vnd.databricks.v1+cell": {
     "cellMetadata": {
      "byteLimit": 2048000,
      "implicitDf": true,
      "rowLimit": 10000
     },
     "inputWidgets": {},
     "nuid": "595eeadd-ec1d-4fa8-a16d-2df0ccf836ba",
     "showTitle": false,
     "tableResultSettingsMap": {},
     "title": ""
    }
   },
   "outputs": [
    {
     "output_type": "display_data",
     "data": {
      "text/html": [
       "<style scoped>\n",
       "  .table-result-container {\n",
       "    max-height: 300px;\n",
       "    overflow: auto;\n",
       "  }\n",
       "  table, th, td {\n",
       "    border: 1px solid black;\n",
       "    border-collapse: collapse;\n",
       "  }\n",
       "  th, td {\n",
       "    padding: 5px;\n",
       "  }\n",
       "  th {\n",
       "    text-align: left;\n",
       "  }\n",
       "</style><div class='table-result-container'><table class='table-result'><thead style='background-color: white'><tr><th>OrderID</th><th>CustomerID</th><th>ProductID</th><th>OrderDate</th><th>Quantity</th><th>UnitPrice</th><th>TotalAmount</th><th>OrderStatus</th><th>LastUpdated</th><th>_rescued_data</th><th>IngestedAt</th></tr></thead><tbody><tr><td>1</td><td>101</td><td>201</td><td>2025-01-01T10:30:00Z</td><td>2</td><td>50.00</td><td>100.00</td><td>Pending</td><td>2025-01-01T10:30:00Z</td><td>null</td><td>2025-01-15T06:40:11.095Z</td></tr><tr><td>2</td><td>102</td><td>202</td><td>2025-01-02T14:15:00Z</td><td>1</td><td>75.50</td><td>75.50</td><td>Completed</td><td>2025-01-02T14:15:00Z</td><td>null</td><td>2025-01-15T06:40:11.095Z</td></tr><tr><td>3</td><td>103</td><td>203</td><td>2025-01-03T09:45:00Z</td><td>5</td><td>20.00</td><td>100.00</td><td>Shipped</td><td>2025-01-03T09:45:00Z</td><td>null</td><td>2025-01-15T06:40:11.095Z</td></tr><tr><td>4</td><td>104</td><td>204</td><td>2025-01-04T16:00:00Z</td><td>3</td><td>150.75</td><td>452.25</td><td>Cancelled</td><td>2025-01-04T16:00:00Z</td><td>null</td><td>2025-01-15T06:40:11.095Z</td></tr><tr><td>5</td><td>105</td><td>205</td><td>2025-01-05T11:20:00Z</td><td>10</td><td>10.50</td><td>105.00</td><td>Pending</td><td>2025-01-05T11:20:00Z</td><td>null</td><td>2025-01-15T06:40:11.095Z</td></tr><tr><td>6</td><td>106</td><td>206</td><td>2025-01-06T18:30:00Z</td><td>4</td><td>99.99</td><td>399.96</td><td>Completed</td><td>2025-01-06T18:30:00Z</td><td>null</td><td>2025-01-15T06:40:11.095Z</td></tr><tr><td>7</td><td>107</td><td>207</td><td>2025-01-07T13:10:00Z</td><td>7</td><td>40.00</td><td>280.00</td><td>Shipped</td><td>2025-01-07T13:10:00Z</td><td>null</td><td>2025-01-15T06:40:11.095Z</td></tr><tr><td>8</td><td>108</td><td>208</td><td>2025-01-08T15:45:00Z</td><td>6</td><td>25.25</td><td>151.50</td><td>Pending</td><td>2025-01-08T15:45:00Z</td><td>null</td><td>2025-01-15T06:40:11.095Z</td></tr><tr><td>9</td><td>109</td><td>209</td><td>2025-01-09T10:00:00Z</td><td>12</td><td>8.99</td><td>107.88</td><td>Completed</td><td>2025-01-09T10:00:00Z</td><td>null</td><td>2025-01-15T06:40:11.095Z</td></tr><tr><td>10</td><td>10</td><td>110</td><td>2025-01-10T12:00:00Z</td><td>3</td><td>60.00</td><td>180.00</td><td>Pending</td><td>2025-01-10T12:00:00Z</td><td>null</td><td>2025-01-15T06:40:11.095Z</td></tr><tr><td>11</td><td>110</td><td>210</td><td>2025-01-10T12:00:00Z</td><td>3</td><td>60.00</td><td>180.00</td><td>Pending</td><td>2025-01-10T12:00:00Z</td><td>null</td><td>2025-01-15T06:40:11.095Z</td></tr><tr><td>12</td><td>111</td><td>213</td><td>2025-01-10T12:00:00Z</td><td>3</td><td>60.00</td><td>180.00</td><td>Pending</td><td>2025-01-10T18:57:21.963Z</td><td>null</td><td>2025-01-15T06:40:11.095Z</td></tr><tr><td>13</td><td>112</td><td>215</td><td>2025-01-10T12:00:00Z</td><td>3</td><td>80.00</td><td>180.00</td><td>Pending</td><td>2025-01-10T19:10:16.757Z</td><td>null</td><td>2025-01-15T06:40:11.095Z</td></tr><tr><td>14</td><td>114</td><td>220</td><td>2025-01-10T12:00:00Z</td><td>3</td><td>80.00</td><td>180.00</td><td>Pending</td><td>2025-01-10T19:12:22.34Z</td><td>null</td><td>2025-01-15T06:40:11.095Z</td></tr><tr><td>1002</td><td>115</td><td>221</td><td>2025-01-03T09:45:00Z</td><td>10</td><td>60.00</td><td>200.00</td><td>Completed</td><td>2025-01-15T12:16:04.18Z</td><td>null</td><td>2025-01-15T06:46:53.531Z</td></tr></tbody></table></div>"
      ]
     },
     "metadata": {
      "application/vnd.databricks.v1+output": {
       "addedWidgets": {},
       "aggData": [],
       "aggError": "",
       "aggOverflow": false,
       "aggSchema": [],
       "aggSeriesLimitReached": false,
       "aggType": "",
       "arguments": {},
       "columnCustomDisplayInfos": {},
       "data": [
        [
         1,
         101,
         201,
         "2025-01-01T10:30:00Z",
         2,
         "50.00",
         "100.00",
         "Pending",
         "2025-01-01T10:30:00Z",
         null,
         "2025-01-15T06:40:11.095Z"
        ],
        [
         2,
         102,
         202,
         "2025-01-02T14:15:00Z",
         1,
         "75.50",
         "75.50",
         "Completed",
         "2025-01-02T14:15:00Z",
         null,
         "2025-01-15T06:40:11.095Z"
        ],
        [
         3,
         103,
         203,
         "2025-01-03T09:45:00Z",
         5,
         "20.00",
         "100.00",
         "Shipped",
         "2025-01-03T09:45:00Z",
         null,
         "2025-01-15T06:40:11.095Z"
        ],
        [
         4,
         104,
         204,
         "2025-01-04T16:00:00Z",
         3,
         "150.75",
         "452.25",
         "Cancelled",
         "2025-01-04T16:00:00Z",
         null,
         "2025-01-15T06:40:11.095Z"
        ],
        [
         5,
         105,
         205,
         "2025-01-05T11:20:00Z",
         10,
         "10.50",
         "105.00",
         "Pending",
         "2025-01-05T11:20:00Z",
         null,
         "2025-01-15T06:40:11.095Z"
        ],
        [
         6,
         106,
         206,
         "2025-01-06T18:30:00Z",
         4,
         "99.99",
         "399.96",
         "Completed",
         "2025-01-06T18:30:00Z",
         null,
         "2025-01-15T06:40:11.095Z"
        ],
        [
         7,
         107,
         207,
         "2025-01-07T13:10:00Z",
         7,
         "40.00",
         "280.00",
         "Shipped",
         "2025-01-07T13:10:00Z",
         null,
         "2025-01-15T06:40:11.095Z"
        ],
        [
         8,
         108,
         208,
         "2025-01-08T15:45:00Z",
         6,
         "25.25",
         "151.50",
         "Pending",
         "2025-01-08T15:45:00Z",
         null,
         "2025-01-15T06:40:11.095Z"
        ],
        [
         9,
         109,
         209,
         "2025-01-09T10:00:00Z",
         12,
         "8.99",
         "107.88",
         "Completed",
         "2025-01-09T10:00:00Z",
         null,
         "2025-01-15T06:40:11.095Z"
        ],
        [
         10,
         10,
         110,
         "2025-01-10T12:00:00Z",
         3,
         "60.00",
         "180.00",
         "Pending",
         "2025-01-10T12:00:00Z",
         null,
         "2025-01-15T06:40:11.095Z"
        ],
        [
         11,
         110,
         210,
         "2025-01-10T12:00:00Z",
         3,
         "60.00",
         "180.00",
         "Pending",
         "2025-01-10T12:00:00Z",
         null,
         "2025-01-15T06:40:11.095Z"
        ],
        [
         12,
         111,
         213,
         "2025-01-10T12:00:00Z",
         3,
         "60.00",
         "180.00",
         "Pending",
         "2025-01-10T18:57:21.963Z",
         null,
         "2025-01-15T06:40:11.095Z"
        ],
        [
         13,
         112,
         215,
         "2025-01-10T12:00:00Z",
         3,
         "80.00",
         "180.00",
         "Pending",
         "2025-01-10T19:10:16.757Z",
         null,
         "2025-01-15T06:40:11.095Z"
        ],
        [
         14,
         114,
         220,
         "2025-01-10T12:00:00Z",
         3,
         "80.00",
         "180.00",
         "Pending",
         "2025-01-10T19:12:22.34Z",
         null,
         "2025-01-15T06:40:11.095Z"
        ],
        [
         1002,
         115,
         221,
         "2025-01-03T09:45:00Z",
         10,
         "60.00",
         "200.00",
         "Completed",
         "2025-01-15T12:16:04.18Z",
         null,
         "2025-01-15T06:46:53.531Z"
        ]
       ],
       "datasetInfos": [],
       "dbfsResultPath": null,
       "isJsonSchema": true,
       "metadata": {
        "createTempViewForImplicitDf": true,
        "dataframeName": "_sqldf",
        "executionCount": 23
       },
       "overflow": false,
       "plotOptions": {
        "customPlotOptions": {},
        "displayType": "table",
        "pivotAggregation": null,
        "pivotColumns": null,
        "xColumns": null,
        "yColumns": null
       },
       "removedWidgets": [],
       "schema": [
        {
         "metadata": "{}",
         "name": "OrderID",
         "type": "\"integer\""
        },
        {
         "metadata": "{}",
         "name": "CustomerID",
         "type": "\"integer\""
        },
        {
         "metadata": "{}",
         "name": "ProductID",
         "type": "\"integer\""
        },
        {
         "metadata": "{}",
         "name": "OrderDate",
         "type": "\"timestamp\""
        },
        {
         "metadata": "{}",
         "name": "Quantity",
         "type": "\"integer\""
        },
        {
         "metadata": "{}",
         "name": "UnitPrice",
         "type": "\"decimal(10,2)\""
        },
        {
         "metadata": "{}",
         "name": "TotalAmount",
         "type": "\"decimal(12,2)\""
        },
        {
         "metadata": "{}",
         "name": "OrderStatus",
         "type": "\"string\""
        },
        {
         "metadata": "{}",
         "name": "LastUpdated",
         "type": "\"timestamp\""
        },
        {
         "metadata": "{}",
         "name": "_rescued_data",
         "type": "\"string\""
        },
        {
         "metadata": "{}",
         "name": "IngestedAt",
         "type": "\"timestamp\""
        }
       ],
       "type": "table"
      }
     },
     "output_type": "display_data"
    }
   ],
   "source": [
    "%sql\n",
    "SELECT * \n",
    "FROM delta.`/mnt/silver-ankit/sales_order` \n",
    "VERSION AS OF 2;\n"
   ]
  }
 ],
 "metadata": {
  "application/vnd.databricks.v1+notebook": {
   "computePreferences": null,
   "dashboards": [],
   "environmentMetadata": {
    "base_environment": "",
    "client": "1"
   },
   "language": "python",
   "notebookMetadata": {
    "mostRecentlyExecutedCommandWithImplicitDF": {
     "commandId": 8770769993488990,
     "dataframes": [
      "_sqldf"
     ]
    },
    "pythonIndentUnit": 4
   },
   "notebookName": "Final",
   "widgets": {}
  },
  "language_info": {
   "name": "python"
  }
 },
 "nbformat": 4,
 "nbformat_minor": 0
}